{
  "nbformat": 4,
  "nbformat_minor": 0,
  "metadata": {
    "colab": {
      "name": "zomato_project.ipynb",
      "provenance": []
    },
    "kernelspec": {
      "display_name": "Python 3",
      "name": "python3"
    }
  },
  "cells": [
    {
      "cell_type": "code",
      "metadata": {
        "id": "r4TX0W9b0rjW"
      },
      "source": [
        "import numpy as np\r\n",
        "import pandas as pd\r\n",
        "import seaborn as sns\r\n",
        "import matplotlib.pyplot as plt\r\n",
        "import nltk\r\n",
        "import os\r\n",
        "import io\r\n",
        "import string\r\n",
        "import re\r\n",
        "from sklearn.metrics import classification_report, accuracy_score\r\n",
        "from sklearn.model_selection import train_test_split\r\n",
        "from sklearn.naive_bayes import BernoulliNB, GaussianNB, MultinomialNB\r\n",
        "from sklearn.linear_model import LogisticRegression\r\n",
        "from sklearn.ensemble import RandomForestClassifier, BaggingClassifier, GradientBoostingClassifier\r\n",
        "from sklearn.svm import SVC"
      ],
      "execution_count": 1,
      "outputs": []
    },
    {
      "cell_type": "code",
      "metadata": {
        "colab": {
          "base_uri": "https://localhost:8080/"
        },
        "id": "KTXn_p_I0wmv",
        "outputId": "c76766dd-e2b1-43a5-df11-f9b8f3096818"
      },
      "source": [
        "from google.colab import drive\r\n",
        "drive.mount(\"/content/gdrive\")"
      ],
      "execution_count": 2,
      "outputs": [
        {
          "output_type": "stream",
          "text": [
            "Mounted at /content/gdrive\n"
          ],
          "name": "stdout"
        }
      ]
    },
    {
      "cell_type": "code",
      "metadata": {
        "colab": {
          "base_uri": "https://localhost:8080/",
          "height": 198
        },
        "id": "jw-NM0Il0seJ",
        "outputId": "41fa71e6-77cd-468f-9b64-d973f665ba55"
      },
      "source": [
        "reviews = pd.read_csv('/content/gdrive/My Drive/Mini/restaurant_reviews.csv')\r\n",
        "reviews.head()"
      ],
      "execution_count": 3,
      "outputs": [
        {
          "output_type": "execute_result",
          "data": {
            "text/html": [
              "<div>\n",
              "<style scoped>\n",
              "    .dataframe tbody tr th:only-of-type {\n",
              "        vertical-align: middle;\n",
              "    }\n",
              "\n",
              "    .dataframe tbody tr th {\n",
              "        vertical-align: top;\n",
              "    }\n",
              "\n",
              "    .dataframe thead th {\n",
              "        text-align: right;\n",
              "    }\n",
              "</style>\n",
              "<table border=\"1\" class=\"dataframe\">\n",
              "  <thead>\n",
              "    <tr style=\"text-align: right;\">\n",
              "      <th></th>\n",
              "      <th>Restaurant</th>\n",
              "      <th>Reviewer</th>\n",
              "      <th>Review</th>\n",
              "      <th>Rating</th>\n",
              "      <th>Metadata</th>\n",
              "      <th>Time</th>\n",
              "      <th>Pictures</th>\n",
              "    </tr>\n",
              "  </thead>\n",
              "  <tbody>\n",
              "    <tr>\n",
              "      <th>0</th>\n",
              "      <td>Beyond Flavours</td>\n",
              "      <td>Rusha Chakraborty</td>\n",
              "      <td>The ambience was good, food was quite good . h...</td>\n",
              "      <td>5</td>\n",
              "      <td>1 Review , 2 Followers</td>\n",
              "      <td>5/25/2019 15:54</td>\n",
              "      <td>0</td>\n",
              "    </tr>\n",
              "    <tr>\n",
              "      <th>1</th>\n",
              "      <td>Beyond Flavours</td>\n",
              "      <td>Anusha Tirumalaneedi</td>\n",
              "      <td>Ambience is too good for a pleasant evening. S...</td>\n",
              "      <td>5</td>\n",
              "      <td>3 Reviews , 2 Followers</td>\n",
              "      <td>5/25/2019 14:20</td>\n",
              "      <td>0</td>\n",
              "    </tr>\n",
              "    <tr>\n",
              "      <th>2</th>\n",
              "      <td>Beyond Flavours</td>\n",
              "      <td>Ashok Shekhawat</td>\n",
              "      <td>A must try.. great food great ambience. Thnx f...</td>\n",
              "      <td>5</td>\n",
              "      <td>2 Reviews , 3 Followers</td>\n",
              "      <td>5/24/2019 22:54</td>\n",
              "      <td>0</td>\n",
              "    </tr>\n",
              "    <tr>\n",
              "      <th>3</th>\n",
              "      <td>Beyond Flavours</td>\n",
              "      <td>Swapnil Sarkar</td>\n",
              "      <td>Soumen das and Arun was a great guy. Only beca...</td>\n",
              "      <td>5</td>\n",
              "      <td>1 Review , 1 Follower</td>\n",
              "      <td>5/24/2019 22:11</td>\n",
              "      <td>0</td>\n",
              "    </tr>\n",
              "    <tr>\n",
              "      <th>4</th>\n",
              "      <td>Beyond Flavours</td>\n",
              "      <td>Dileep</td>\n",
              "      <td>Food is good.we ordered Kodi drumsticks and ba...</td>\n",
              "      <td>5</td>\n",
              "      <td>3 Reviews , 2 Followers</td>\n",
              "      <td>5/24/2019 21:37</td>\n",
              "      <td>0</td>\n",
              "    </tr>\n",
              "  </tbody>\n",
              "</table>\n",
              "</div>"
            ],
            "text/plain": [
              "        Restaurant              Reviewer  ...             Time Pictures\n",
              "0  Beyond Flavours     Rusha Chakraborty  ...  5/25/2019 15:54        0\n",
              "1  Beyond Flavours  Anusha Tirumalaneedi  ...  5/25/2019 14:20        0\n",
              "2  Beyond Flavours       Ashok Shekhawat  ...  5/24/2019 22:54        0\n",
              "3  Beyond Flavours        Swapnil Sarkar  ...  5/24/2019 22:11        0\n",
              "4  Beyond Flavours                Dileep  ...  5/24/2019 21:37        0\n",
              "\n",
              "[5 rows x 7 columns]"
            ]
          },
          "metadata": {
            "tags": []
          },
          "execution_count": 3
        }
      ]
    },
    {
      "cell_type": "code",
      "metadata": {
        "colab": {
          "base_uri": "https://localhost:8080/"
        },
        "id": "XZ_FMOKh09l1",
        "outputId": "03820e97-cbef-4716-a0e9-53adeb6c48f0"
      },
      "source": [
        "reviews.isnull().sum()"
      ],
      "execution_count": 4,
      "outputs": [
        {
          "output_type": "execute_result",
          "data": {
            "text/plain": [
              "Restaurant     0\n",
              "Reviewer      38\n",
              "Review        45\n",
              "Rating        38\n",
              "Metadata      38\n",
              "Time          38\n",
              "Pictures       0\n",
              "dtype: int64"
            ]
          },
          "metadata": {
            "tags": []
          },
          "execution_count": 4
        }
      ]
    },
    {
      "cell_type": "code",
      "metadata": {
        "colab": {
          "base_uri": "https://localhost:8080/"
        },
        "id": "csgpRJRR1BLb",
        "outputId": "25537b28-6b9d-497e-c826-74f219e32ed7"
      },
      "source": [
        "reviews.shape"
      ],
      "execution_count": 5,
      "outputs": [
        {
          "output_type": "execute_result",
          "data": {
            "text/plain": [
              "(10000, 7)"
            ]
          },
          "metadata": {
            "tags": []
          },
          "execution_count": 5
        }
      ]
    },
    {
      "cell_type": "code",
      "metadata": {
        "colab": {
          "base_uri": "https://localhost:8080/"
        },
        "id": "TfxLyP8X1mk8",
        "outputId": "820a5ac1-7bf4-4bc5-b833-c77b5a1d0b2e"
      },
      "source": [
        "reviews.info()"
      ],
      "execution_count": 6,
      "outputs": [
        {
          "output_type": "stream",
          "text": [
            "<class 'pandas.core.frame.DataFrame'>\n",
            "RangeIndex: 10000 entries, 0 to 9999\n",
            "Data columns (total 7 columns):\n",
            " #   Column      Non-Null Count  Dtype \n",
            "---  ------      --------------  ----- \n",
            " 0   Restaurant  10000 non-null  object\n",
            " 1   Reviewer    9962 non-null   object\n",
            " 2   Review      9955 non-null   object\n",
            " 3   Rating      9962 non-null   object\n",
            " 4   Metadata    9962 non-null   object\n",
            " 5   Time        9962 non-null   object\n",
            " 6   Pictures    10000 non-null  int64 \n",
            "dtypes: int64(1), object(6)\n",
            "memory usage: 547.0+ KB\n"
          ],
          "name": "stdout"
        }
      ]
    },
    {
      "cell_type": "code",
      "metadata": {
        "id": "CT3XfIRS6Cqt"
      },
      "source": [
        "reviews =reviews.dropna()"
      ],
      "execution_count": 7,
      "outputs": []
    },
    {
      "cell_type": "code",
      "metadata": {
        "colab": {
          "base_uri": "https://localhost:8080/"
        },
        "id": "lqxORyI26HuD",
        "outputId": "577cc398-ed95-464d-deff-2ecd67573d15"
      },
      "source": [
        "reviews.shape"
      ],
      "execution_count": 8,
      "outputs": [
        {
          "output_type": "execute_result",
          "data": {
            "text/plain": [
              "(9955, 7)"
            ]
          },
          "metadata": {
            "tags": []
          },
          "execution_count": 8
        }
      ]
    },
    {
      "cell_type": "code",
      "metadata": {
        "colab": {
          "base_uri": "https://localhost:8080/",
          "height": 198
        },
        "id": "2nD8prmI6Kjv",
        "outputId": "832b843e-0b7c-443d-d4c0-d9c7eb52e6ab"
      },
      "source": [
        "reviews_txt = reviews[['Review', 'Rating']]\r\n",
        "reviews_txt.head()"
      ],
      "execution_count": 9,
      "outputs": [
        {
          "output_type": "execute_result",
          "data": {
            "text/html": [
              "<div>\n",
              "<style scoped>\n",
              "    .dataframe tbody tr th:only-of-type {\n",
              "        vertical-align: middle;\n",
              "    }\n",
              "\n",
              "    .dataframe tbody tr th {\n",
              "        vertical-align: top;\n",
              "    }\n",
              "\n",
              "    .dataframe thead th {\n",
              "        text-align: right;\n",
              "    }\n",
              "</style>\n",
              "<table border=\"1\" class=\"dataframe\">\n",
              "  <thead>\n",
              "    <tr style=\"text-align: right;\">\n",
              "      <th></th>\n",
              "      <th>Review</th>\n",
              "      <th>Rating</th>\n",
              "    </tr>\n",
              "  </thead>\n",
              "  <tbody>\n",
              "    <tr>\n",
              "      <th>0</th>\n",
              "      <td>The ambience was good, food was quite good . h...</td>\n",
              "      <td>5</td>\n",
              "    </tr>\n",
              "    <tr>\n",
              "      <th>1</th>\n",
              "      <td>Ambience is too good for a pleasant evening. S...</td>\n",
              "      <td>5</td>\n",
              "    </tr>\n",
              "    <tr>\n",
              "      <th>2</th>\n",
              "      <td>A must try.. great food great ambience. Thnx f...</td>\n",
              "      <td>5</td>\n",
              "    </tr>\n",
              "    <tr>\n",
              "      <th>3</th>\n",
              "      <td>Soumen das and Arun was a great guy. Only beca...</td>\n",
              "      <td>5</td>\n",
              "    </tr>\n",
              "    <tr>\n",
              "      <th>4</th>\n",
              "      <td>Food is good.we ordered Kodi drumsticks and ba...</td>\n",
              "      <td>5</td>\n",
              "    </tr>\n",
              "  </tbody>\n",
              "</table>\n",
              "</div>"
            ],
            "text/plain": [
              "                                              Review Rating\n",
              "0  The ambience was good, food was quite good . h...      5\n",
              "1  Ambience is too good for a pleasant evening. S...      5\n",
              "2  A must try.. great food great ambience. Thnx f...      5\n",
              "3  Soumen das and Arun was a great guy. Only beca...      5\n",
              "4  Food is good.we ordered Kodi drumsticks and ba...      5"
            ]
          },
          "metadata": {
            "tags": []
          },
          "execution_count": 9
        }
      ]
    },
    {
      "cell_type": "code",
      "metadata": {
        "colab": {
          "base_uri": "https://localhost:8080/"
        },
        "id": "aOdGoI0-6RlT",
        "outputId": "edf029f1-9392-4c7b-fc40-b574c5be6438"
      },
      "source": [
        "reviews_txt['Rating'] = reviews_txt['Rating'].replace('Like', 5)\r\n",
        "reviews_txt['Rating'] = reviews_txt['Rating'].astype('float')"
      ],
      "execution_count": 10,
      "outputs": [
        {
          "output_type": "stream",
          "text": [
            "/usr/local/lib/python3.7/dist-packages/ipykernel_launcher.py:1: SettingWithCopyWarning: \n",
            "A value is trying to be set on a copy of a slice from a DataFrame.\n",
            "Try using .loc[row_indexer,col_indexer] = value instead\n",
            "\n",
            "See the caveats in the documentation: https://pandas.pydata.org/pandas-docs/stable/user_guide/indexing.html#returning-a-view-versus-a-copy\n",
            "  \"\"\"Entry point for launching an IPython kernel.\n",
            "/usr/local/lib/python3.7/dist-packages/ipykernel_launcher.py:2: SettingWithCopyWarning: \n",
            "A value is trying to be set on a copy of a slice from a DataFrame.\n",
            "Try using .loc[row_indexer,col_indexer] = value instead\n",
            "\n",
            "See the caveats in the documentation: https://pandas.pydata.org/pandas-docs/stable/user_guide/indexing.html#returning-a-view-versus-a-copy\n",
            "  \n"
          ],
          "name": "stderr"
        }
      ]
    },
    {
      "cell_type": "code",
      "metadata": {
        "colab": {
          "base_uri": "https://localhost:8080/"
        },
        "id": "nSNdMv5D6wLZ",
        "outputId": "14f65453-bc5d-4205-e556-587a011aea06"
      },
      "source": [
        "reviews_txt['Rating'] = np.where(reviews_txt['Rating']<4, 0, 1) #0 for BAD rating and 1 for Good rating"
      ],
      "execution_count": 11,
      "outputs": [
        {
          "output_type": "stream",
          "text": [
            "/usr/local/lib/python3.7/dist-packages/ipykernel_launcher.py:1: SettingWithCopyWarning: \n",
            "A value is trying to be set on a copy of a slice from a DataFrame.\n",
            "Try using .loc[row_indexer,col_indexer] = value instead\n",
            "\n",
            "See the caveats in the documentation: https://pandas.pydata.org/pandas-docs/stable/user_guide/indexing.html#returning-a-view-versus-a-copy\n",
            "  \"\"\"Entry point for launching an IPython kernel.\n"
          ],
          "name": "stderr"
        }
      ]
    },
    {
      "cell_type": "code",
      "metadata": {
        "colab": {
          "base_uri": "https://localhost:8080/",
          "height": 198
        },
        "id": "J9wwFLFD6V-q",
        "outputId": "a7b3db47-d107-473c-f747-f06bc9e91937"
      },
      "source": [
        "reviews_txt.head()"
      ],
      "execution_count": 12,
      "outputs": [
        {
          "output_type": "execute_result",
          "data": {
            "text/html": [
              "<div>\n",
              "<style scoped>\n",
              "    .dataframe tbody tr th:only-of-type {\n",
              "        vertical-align: middle;\n",
              "    }\n",
              "\n",
              "    .dataframe tbody tr th {\n",
              "        vertical-align: top;\n",
              "    }\n",
              "\n",
              "    .dataframe thead th {\n",
              "        text-align: right;\n",
              "    }\n",
              "</style>\n",
              "<table border=\"1\" class=\"dataframe\">\n",
              "  <thead>\n",
              "    <tr style=\"text-align: right;\">\n",
              "      <th></th>\n",
              "      <th>Review</th>\n",
              "      <th>Rating</th>\n",
              "    </tr>\n",
              "  </thead>\n",
              "  <tbody>\n",
              "    <tr>\n",
              "      <th>0</th>\n",
              "      <td>The ambience was good, food was quite good . h...</td>\n",
              "      <td>1</td>\n",
              "    </tr>\n",
              "    <tr>\n",
              "      <th>1</th>\n",
              "      <td>Ambience is too good for a pleasant evening. S...</td>\n",
              "      <td>1</td>\n",
              "    </tr>\n",
              "    <tr>\n",
              "      <th>2</th>\n",
              "      <td>A must try.. great food great ambience. Thnx f...</td>\n",
              "      <td>1</td>\n",
              "    </tr>\n",
              "    <tr>\n",
              "      <th>3</th>\n",
              "      <td>Soumen das and Arun was a great guy. Only beca...</td>\n",
              "      <td>1</td>\n",
              "    </tr>\n",
              "    <tr>\n",
              "      <th>4</th>\n",
              "      <td>Food is good.we ordered Kodi drumsticks and ba...</td>\n",
              "      <td>1</td>\n",
              "    </tr>\n",
              "  </tbody>\n",
              "</table>\n",
              "</div>"
            ],
            "text/plain": [
              "                                              Review  Rating\n",
              "0  The ambience was good, food was quite good . h...       1\n",
              "1  Ambience is too good for a pleasant evening. S...       1\n",
              "2  A must try.. great food great ambience. Thnx f...       1\n",
              "3  Soumen das and Arun was a great guy. Only beca...       1\n",
              "4  Food is good.we ordered Kodi drumsticks and ba...       1"
            ]
          },
          "metadata": {
            "tags": []
          },
          "execution_count": 12
        }
      ]
    },
    {
      "cell_type": "code",
      "metadata": {
        "colab": {
          "base_uri": "https://localhost:8080/"
        },
        "id": "z3TiJzeZ6a1L",
        "outputId": "06b6855a-3441-4c3c-de57-659fec940ed0"
      },
      "source": [
        "reviews_txt['Rating'].value_counts()"
      ],
      "execution_count": 13,
      "outputs": [
        {
          "output_type": "execute_result",
          "data": {
            "text/plain": [
              "1    6269\n",
              "0    3686\n",
              "Name: Rating, dtype: int64"
            ]
          },
          "metadata": {
            "tags": []
          },
          "execution_count": 13
        }
      ]
    },
    {
      "cell_type": "code",
      "metadata": {
        "colab": {
          "base_uri": "https://localhost:8080/"
        },
        "id": "ec7rbxgp6fbp",
        "outputId": "c94a30a4-458d-4506-93c1-0a7473b39cc0"
      },
      "source": [
        "reviews['Restaurant'].value_counts()"
      ],
      "execution_count": 14,
      "outputs": [
        {
          "output_type": "execute_result",
          "data": {
            "text/plain": [
              "Owm Nom Nom                 100\n",
              "Royal Spicy Restaurant      100\n",
              "Zing's Northeast Kitchen    100\n",
              "Absolute Sizzlers           100\n",
              "Khaan Saab                  100\n",
              "                           ... \n",
              "Al Saba Restaurant           99\n",
              "Being Hungry                 99\n",
              "Hyderabad Chefs              98\n",
              "Arena Eleven                 85\n",
              "American Wild Wings          77\n",
              "Name: Restaurant, Length: 100, dtype: int64"
            ]
          },
          "metadata": {
            "tags": []
          },
          "execution_count": 14
        }
      ]
    },
    {
      "cell_type": "code",
      "metadata": {
        "colab": {
          "base_uri": "https://localhost:8080/"
        },
        "id": "WVEICzvr62Kn",
        "outputId": "c5a2caf7-73b3-4c63-fe65-72bcfa0683bb"
      },
      "source": [
        "reviews.columns"
      ],
      "execution_count": 15,
      "outputs": [
        {
          "output_type": "execute_result",
          "data": {
            "text/plain": [
              "Index(['Restaurant', 'Reviewer', 'Review', 'Rating', 'Metadata', 'Time',\n",
              "       'Pictures'],\n",
              "      dtype='object')"
            ]
          },
          "metadata": {
            "tags": []
          },
          "execution_count": 15
        }
      ]
    },
    {
      "cell_type": "code",
      "metadata": {
        "colab": {
          "base_uri": "https://localhost:8080/",
          "height": 354
        },
        "id": "8IQYszez7CSe",
        "outputId": "bad7980f-6e60-48a0-9b9a-930607eb275f"
      },
      "source": [
        "sns.countplot(reviews_txt['Rating']) #0 for bad and 1 for good"
      ],
      "execution_count": 16,
      "outputs": [
        {
          "output_type": "stream",
          "text": [
            "/usr/local/lib/python3.7/dist-packages/seaborn/_decorators.py:43: FutureWarning: Pass the following variable as a keyword arg: x. From version 0.12, the only valid positional argument will be `data`, and passing other arguments without an explicit keyword will result in an error or misinterpretation.\n",
            "  FutureWarning\n"
          ],
          "name": "stderr"
        },
        {
          "output_type": "execute_result",
          "data": {
            "text/plain": [
              "<matplotlib.axes._subplots.AxesSubplot at 0x7f72dd7966d0>"
            ]
          },
          "metadata": {
            "tags": []
          },
          "execution_count": 16
        },
        {
          "output_type": "display_data",
          "data": {
            "image/png": "[encoded data removed]",
            "text/plain": [
              "<Figure size 432x288 with 1 Axes>"
            ]
          },
          "metadata": {
            "tags": [],
            "needs_background": "light"
          }
        }
      ]
    },
    {
      "cell_type": "code",
      "metadata": {
        "colab": {
          "base_uri": "https://localhost:8080/"
        },
        "id": "nRPvg3XR7FVz",
        "outputId": "5bab1938-b1f9-4ad1-db98-47a4266a8242"
      },
      "source": [
        "cleanup_re = re.compile('[^a-z]+')\r\n",
        "def clean(sentence): \r\n",
        "  sentence = str(sentence)\r\n",
        "  sentence = sentence.lower()\r\n",
        "  sentence = cleanup_re.sub(' ', sentence).strip()\r\n",
        "  return sentence\r\n",
        "reviews_txt['Review'] = reviews_txt['Review'].apply(clean)"
      ],
      "execution_count": 17,
      "outputs": [
        {
          "output_type": "stream",
          "text": [
            "/usr/local/lib/python3.7/dist-packages/ipykernel_launcher.py:7: SettingWithCopyWarning: \n",
            "A value is trying to be set on a copy of a slice from a DataFrame.\n",
            "Try using .loc[row_indexer,col_indexer] = value instead\n",
            "\n",
            "See the caveats in the documentation: https://pandas.pydata.org/pandas-docs/stable/user_guide/indexing.html#returning-a-view-versus-a-copy\n",
            "  import sys\n"
          ],
          "name": "stderr"
        }
      ]
    },
    {
      "cell_type": "code",
      "metadata": {
        "colab": {
          "base_uri": "https://localhost:8080/"
        },
        "id": "eiEfxp4g7bcp",
        "outputId": "210cd880-b951-4f43-fe36-dce79bcf30a8"
      },
      "source": [
        "nltk.download('popular')"
      ],
      "execution_count": 18,
      "outputs": [
        {
          "output_type": "stream",
          "text": [
            "[nltk_data] Downloading collection 'popular'\n",
            "[nltk_data]    | \n",
            "[nltk_data]    | Downloading package cmudict to /root/nltk_data...\n",
            "[nltk_data]    |   Unzipping corpora/cmudict.zip.\n",
            "[nltk_data]    | Downloading package gazetteers to /root/nltk_data...\n",
            "[nltk_data]    |   Unzipping corpora/gazetteers.zip.\n",
            "[nltk_data]    | Downloading package genesis to /root/nltk_data...\n",
            "[nltk_data]    |   Unzipping corpora/genesis.zip.\n",
            "[nltk_data]    | Downloading package gutenberg to /root/nltk_data...\n",
            "[nltk_data]    |   Unzipping corpora/gutenberg.zip.\n",
            "[nltk_data]    | Downloading package inaugural to /root/nltk_data...\n",
            "[nltk_data]    |   Unzipping corpora/inaugural.zip.\n",
            "[nltk_data]    | Downloading package movie_reviews to\n",
            "[nltk_data]    |     /root/nltk_data...\n",
            "[nltk_data]    |   Unzipping corpora/movie_reviews.zip.\n",
            "[nltk_data]    | Downloading package names to /root/nltk_data...\n",
            "[nltk_data]    |   Unzipping corpora/names.zip.\n",
            "[nltk_data]    | Downloading package shakespeare to /root/nltk_data...\n",
            "[nltk_data]    |   Unzipping corpora/shakespeare.zip.\n",
            "[nltk_data]    | Downloading package stopwords to /root/nltk_data...\n",
            "[nltk_data]    |   Unzipping corpora/stopwords.zip.\n",
            "[nltk_data]    | Downloading package treebank to /root/nltk_data...\n",
            "[nltk_data]    |   Unzipping corpora/treebank.zip.\n",
            "[nltk_data]    | Downloading package twitter_samples to\n",
            "[nltk_data]    |     /root/nltk_data...\n",
            "[nltk_data]    |   Unzipping corpora/twitter_samples.zip.\n",
            "[nltk_data]    | Downloading package omw to /root/nltk_data...\n",
            "[nltk_data]    |   Unzipping corpora/omw.zip.\n",
            "[nltk_data]    | Downloading package wordnet to /root/nltk_data...\n",
            "[nltk_data]    |   Unzipping corpora/wordnet.zip.\n",
            "[nltk_data]    | Downloading package wordnet_ic to /root/nltk_data...\n",
            "[nltk_data]    |   Unzipping corpora/wordnet_ic.zip.\n",
            "[nltk_data]    | Downloading package words to /root/nltk_data...\n",
            "[nltk_data]    |   Unzipping corpora/words.zip.\n",
            "[nltk_data]    | Downloading package maxent_ne_chunker to\n",
            "[nltk_data]    |     /root/nltk_data...\n",
            "[nltk_data]    |   Unzipping chunkers/maxent_ne_chunker.zip.\n",
            "[nltk_data]    | Downloading package punkt to /root/nltk_data...\n",
            "[nltk_data]    |   Unzipping tokenizers/punkt.zip.\n",
            "[nltk_data]    | Downloading package snowball_data to\n",
            "[nltk_data]    |     /root/nltk_data...\n",
            "[nltk_data]    | Downloading package averaged_perceptron_tagger to\n",
            "[nltk_data]    |     /root/nltk_data...\n",
            "[nltk_data]    |   Unzipping taggers/averaged_perceptron_tagger.zip.\n",
            "[nltk_data]    | \n",
            "[nltk_data]  Done downloading collection popular\n"
          ],
          "name": "stdout"
        },
        {
          "output_type": "execute_result",
          "data": {
            "text/plain": [
              "True"
            ]
          },
          "metadata": {
            "tags": []
          },
          "execution_count": 18
        }
      ]
    },
    {
      "cell_type": "code",
      "metadata": {
        "id": "2NlQoh0k7fvN"
      },
      "source": [
        "from nltk.corpus import stopwords\r\n",
        "from nltk.tokenize import word_tokenize"
      ],
      "execution_count": 19,
      "outputs": []
    },
    {
      "cell_type": "code",
      "metadata": {
        "colab": {
          "base_uri": "https://localhost:8080/"
        },
        "id": "CYKCcvgm7oiP",
        "outputId": "c8960e82-6a32-4576-b750-f0f1225b2fad"
      },
      "source": [
        "def preprocess(sentence):\r\n",
        "  sentence = str(sentence)\r\n",
        "  word_tokens = word_tokenize(sentence)\r\n",
        "  stop_words = set(stopwords.words('english'))\r\n",
        "  sentence = ' '.join([i for i in word_tokens if not i in stop_words])\r\n",
        "  return sentence\r\n",
        "\r\n",
        "reviews_txt['Review'] = reviews_txt['Review'].apply(preprocess)"
      ],
      "execution_count": 20,
      "outputs": [
        {
          "output_type": "stream",
          "text": [
            "/usr/local/lib/python3.7/dist-packages/ipykernel_launcher.py:8: SettingWithCopyWarning: \n",
            "A value is trying to be set on a copy of a slice from a DataFrame.\n",
            "Try using .loc[row_indexer,col_indexer] = value instead\n",
            "\n",
            "See the caveats in the documentation: https://pandas.pydata.org/pandas-docs/stable/user_guide/indexing.html#returning-a-view-versus-a-copy\n",
            "  \n"
          ],
          "name": "stderr"
        }
      ]
    },
    {
      "cell_type": "code",
      "metadata": {
        "colab": {
          "base_uri": "https://localhost:8080/",
          "height": 198
        },
        "id": "-_fga3oI7q-y",
        "outputId": "2e993d39-a54a-47d8-c063-5a2cf6bb9a1b"
      },
      "source": [
        "reviews_txt.head()"
      ],
      "execution_count": 21,
      "outputs": [
        {
          "output_type": "execute_result",
          "data": {
            "text/html": [
              "<div>\n",
              "<style scoped>\n",
              "    .dataframe tbody tr th:only-of-type {\n",
              "        vertical-align: middle;\n",
              "    }\n",
              "\n",
              "    .dataframe tbody tr th {\n",
              "        vertical-align: top;\n",
              "    }\n",
              "\n",
              "    .dataframe thead th {\n",
              "        text-align: right;\n",
              "    }\n",
              "</style>\n",
              "<table border=\"1\" class=\"dataframe\">\n",
              "  <thead>\n",
              "    <tr style=\"text-align: right;\">\n",
              "      <th></th>\n",
              "      <th>Review</th>\n",
              "      <th>Rating</th>\n",
              "    </tr>\n",
              "  </thead>\n",
              "  <tbody>\n",
              "    <tr>\n",
              "      <th>0</th>\n",
              "      <td>ambience good food quite good saturday lunch c...</td>\n",
              "      <td>1</td>\n",
              "    </tr>\n",
              "    <tr>\n",
              "      <th>1</th>\n",
              "      <td>ambience good pleasant evening service prompt ...</td>\n",
              "      <td>1</td>\n",
              "    </tr>\n",
              "    <tr>\n",
              "      <th>2</th>\n",
              "      <td>must try great food great ambience thnx servic...</td>\n",
              "      <td>1</td>\n",
              "    </tr>\n",
              "    <tr>\n",
              "      <th>3</th>\n",
              "      <td>soumen das arun great guy behavior sincerety g...</td>\n",
              "      <td>1</td>\n",
              "    </tr>\n",
              "    <tr>\n",
              "      <th>4</th>\n",
              "      <td>food good ordered kodi drumsticks basket mutto...</td>\n",
              "      <td>1</td>\n",
              "    </tr>\n",
              "  </tbody>\n",
              "</table>\n",
              "</div>"
            ],
            "text/plain": [
              "                                              Review  Rating\n",
              "0  ambience good food quite good saturday lunch c...       1\n",
              "1  ambience good pleasant evening service prompt ...       1\n",
              "2  must try great food great ambience thnx servic...       1\n",
              "3  soumen das arun great guy behavior sincerety g...       1\n",
              "4  food good ordered kodi drumsticks basket mutto...       1"
            ]
          },
          "metadata": {
            "tags": []
          },
          "execution_count": 21
        }
      ]
    },
    {
      "cell_type": "code",
      "metadata": {
        "colab": {
          "base_uri": "https://localhost:8080/"
        },
        "id": "e4-sHwSu7tm-",
        "outputId": "b4973fc5-f5bf-4f25-8b89-111b0a076020"
      },
      "source": [
        "from nltk.stem import WordNetLemmatizer\r\n",
        "lemma = WordNetLemmatizer()\r\n",
        "def preprocess4(sentence):\r\n",
        "  input_str=word_tokenize(sentence)\r\n",
        "  lemmatized_output = ' '.join([lemma.lemmatize(w) for w in input_str])\r\n",
        "  return lemmatized_output\r\n",
        "\r\n",
        "reviews_txt['Review'] = reviews_txt['Review'].apply(preprocess4)"
      ],
      "execution_count": 22,
      "outputs": [
        {
          "output_type": "stream",
          "text": [
            "/usr/local/lib/python3.7/dist-packages/ipykernel_launcher.py:8: SettingWithCopyWarning: \n",
            "A value is trying to be set on a copy of a slice from a DataFrame.\n",
            "Try using .loc[row_indexer,col_indexer] = value instead\n",
            "\n",
            "See the caveats in the documentation: https://pandas.pydata.org/pandas-docs/stable/user_guide/indexing.html#returning-a-view-versus-a-copy\n",
            "  \n"
          ],
          "name": "stderr"
        }
      ]
    },
    {
      "cell_type": "code",
      "metadata": {
        "colab": {
          "base_uri": "https://localhost:8080/",
          "height": 198
        },
        "id": "VZcoK81c7v6R",
        "outputId": "30858bc8-c9a8-41cd-eccf-d179236f7d31"
      },
      "source": [
        "reviews_txt.head()"
      ],
      "execution_count": 23,
      "outputs": [
        {
          "output_type": "execute_result",
          "data": {
            "text/html": [
              "<div>\n",
              "<style scoped>\n",
              "    .dataframe tbody tr th:only-of-type {\n",
              "        vertical-align: middle;\n",
              "    }\n",
              "\n",
              "    .dataframe tbody tr th {\n",
              "        vertical-align: top;\n",
              "    }\n",
              "\n",
              "    .dataframe thead th {\n",
              "        text-align: right;\n",
              "    }\n",
              "</style>\n",
              "<table border=\"1\" class=\"dataframe\">\n",
              "  <thead>\n",
              "    <tr style=\"text-align: right;\">\n",
              "      <th></th>\n",
              "      <th>Review</th>\n",
              "      <th>Rating</th>\n",
              "    </tr>\n",
              "  </thead>\n",
              "  <tbody>\n",
              "    <tr>\n",
              "      <th>0</th>\n",
              "      <td>ambience good food quite good saturday lunch c...</td>\n",
              "      <td>1</td>\n",
              "    </tr>\n",
              "    <tr>\n",
              "      <th>1</th>\n",
              "      <td>ambience good pleasant evening service prompt ...</td>\n",
              "      <td>1</td>\n",
              "    </tr>\n",
              "    <tr>\n",
              "      <th>2</th>\n",
              "      <td>must try great food great ambience thnx servic...</td>\n",
              "      <td>1</td>\n",
              "    </tr>\n",
              "    <tr>\n",
              "      <th>3</th>\n",
              "      <td>soumen da arun great guy behavior sincerety go...</td>\n",
              "      <td>1</td>\n",
              "    </tr>\n",
              "    <tr>\n",
              "      <th>4</th>\n",
              "      <td>food good ordered kodi drumstick basket mutton...</td>\n",
              "      <td>1</td>\n",
              "    </tr>\n",
              "  </tbody>\n",
              "</table>\n",
              "</div>"
            ],
            "text/plain": [
              "                                              Review  Rating\n",
              "0  ambience good food quite good saturday lunch c...       1\n",
              "1  ambience good pleasant evening service prompt ...       1\n",
              "2  must try great food great ambience thnx servic...       1\n",
              "3  soumen da arun great guy behavior sincerety go...       1\n",
              "4  food good ordered kodi drumstick basket mutton...       1"
            ]
          },
          "metadata": {
            "tags": []
          },
          "execution_count": 23
        }
      ]
    },
    {
      "cell_type": "code",
      "metadata": {
        "id": "6KQ4NQyz702X"
      },
      "source": [
        "X = reviews_txt['Review']\r\n",
        "y = reviews_txt['Rating']"
      ],
      "execution_count": 24,
      "outputs": []
    },
    {
      "cell_type": "code",
      "metadata": {
        "id": "iHRn3LBJ73vU"
      },
      "source": [
        "X_train, X_test, y_train, y_test = train_test_split(X, y, test_size = 0.2, random_state = 100)"
      ],
      "execution_count": 25,
      "outputs": []
    },
    {
      "cell_type": "code",
      "metadata": {
        "colab": {
          "base_uri": "https://localhost:8080/"
        },
        "id": "LRPy2Mzp76Fr",
        "outputId": "b36cdf1a-fc5f-4653-85f3-6e463c575f5b"
      },
      "source": [
        "X_train.shape, X_test.shape"
      ],
      "execution_count": 26,
      "outputs": [
        {
          "output_type": "execute_result",
          "data": {
            "text/plain": [
              "((7964,), (1991,))"
            ]
          },
          "metadata": {
            "tags": []
          },
          "execution_count": 26
        }
      ]
    },
    {
      "cell_type": "code",
      "metadata": {
        "id": "tnX4M8wo78QV"
      },
      "source": [
        "from sklearn.feature_extraction.text import CountVectorizer\r\n",
        "count_vect = CountVectorizer(analyzer='word', token_pattern=r'\\w{1,}')\r\n",
        "count_vect.fit(X_train)\r\n",
        "\r\n",
        "#transform the train and test dataset\r\n",
        "X_train_countvect = count_vect.transform(X_train)\r\n",
        "X_test_countvect = count_vect.transform(X_test)"
      ],
      "execution_count": 27,
      "outputs": []
    },
    {
      "cell_type": "code",
      "metadata": {
        "colab": {
          "base_uri": "https://localhost:8080/"
        },
        "id": "B0BgsfjA7_PZ",
        "outputId": "c02a3e11-0e72-4403-d8b0-20edf8c4a5c0"
      },
      "source": [
        "from sklearn.feature_extraction.text import TfidfVectorizer\r\n",
        "# word level tf-idf\r\n",
        "tfidf_vect = TfidfVectorizer(analyzer='word', token_pattern=r'\\w{1,}', max_features=5000)\r\n",
        "tfidf_vect.fit(X_train)\r\n",
        "xtrain_tfidf =  tfidf_vect.transform(X_train)\r\n",
        "xtest_tfidf =  tfidf_vect.transform(X_test)\r\n",
        " \r\n",
        " # ngram level tf-idf \r\n",
        "tfidf_vect_ngram = TfidfVectorizer(analyzer='word', token_pattern=r'\\w{1,}', ngram_range=(2,3), max_features=5000)\r\n",
        "tfidf_vect_ngram.fit(X_train)\r\n",
        "xtrain_tfidf_ngram =  tfidf_vect_ngram.transform(X_train)\r\n",
        "xtest_tfidf_ngram =  tfidf_vect_ngram.transform(X_test)\r\n",
        "\r\n",
        "# characters level tf-idf\r\n",
        "tfidf_vect_ngram_chars = TfidfVectorizer(analyzer='char', token_pattern=r'\\w{1,}', ngram_range=(2,3), max_features=5000)\r\n",
        "tfidf_vect_ngram_chars.fit(X_train)\r\n",
        "xtrain_tfidf_ngram_char =  tfidf_vect_ngram_chars.transform(X_train)\r\n",
        "xtest_tfidf_ngram_char =  tfidf_vect_ngram_chars.transform(X_test)"
      ],
      "execution_count": 28,
      "outputs": [
        {
          "output_type": "stream",
          "text": [
            "/usr/local/lib/python3.7/dist-packages/sklearn/feature_extraction/text.py:524: UserWarning: The parameter 'token_pattern' will not be used since 'analyzer' != 'word'\n",
            "  warnings.warn(\"The parameter 'token_pattern' will not be used\"\n"
          ],
          "name": "stderr"
        }
      ]
    },
    {
      "cell_type": "code",
      "metadata": {
        "id": "mPA5SJbS8C8V"
      },
      "source": [
        "def train_model(classifier, feature_vector_train, label, feature_vector_valid):\r\n",
        "    # fit the training dataset on the classifier\r\n",
        "    classifier.fit(feature_vector_train, label)\r\n",
        "    \r\n",
        "    # predict the labels on validation dataset\r\n",
        "    predictions = classifier.predict(feature_vector_valid)\r\n",
        "    \r\n",
        "    return accuracy_score(predictions, y_test)"
      ],
      "execution_count": 29,
      "outputs": []
    },
    {
      "cell_type": "code",
      "metadata": {
        "colab": {
          "base_uri": "https://localhost:8080/"
        },
        "id": "Bctq4IXd8F2C",
        "outputId": "b5c393d6-95aa-4573-fb7f-56ce69c63446"
      },
      "source": [
        "# Naive Bayes on Count Vectors\r\n",
        "accuracy = train_model(MultinomialNB(), X_train_countvect, y_train, X_test_countvect)\r\n",
        "print(\"NB, Count Vectors: \", accuracy)\r\n",
        "\r\n",
        "# Naive Bayes on Word Level TF IDF Vectors\r\n",
        "accuracy = train_model(MultinomialNB(), xtrain_tfidf, y_train, xtest_tfidf)\r\n",
        "print(\"NB, WordLevel TF-IDF: \", accuracy)\r\n",
        "\r\n",
        "# Naive Bayes on Ngram Level TF IDF Vectors\r\n",
        "accuracy = train_model(MultinomialNB(), xtrain_tfidf_ngram, y_train, xtest_tfidf_ngram)\r\n",
        "print(\"NB, N-Gram Vectors: \", accuracy)\r\n",
        "\r\n",
        "# Naive Bayes on Character Level TF IDF Vectors\r\n",
        "accuracy = train_model(MultinomialNB(), xtrain_tfidf_ngram_char, y_train, xtest_tfidf_ngram_char)\r\n",
        "print(\"NB, CharLevel Vectors: \", accuracy)"
      ],
      "execution_count": 30,
      "outputs": [
        {
          "output_type": "stream",
          "text": [
            "NB, Count Vectors:  0.8608739326971371\n",
            "NB, WordLevel TF-IDF:  0.8528377699648418\n",
            "NB, N-Gram Vectors:  0.7930688096433953\n",
            "NB, CharLevel Vectors:  0.8342541436464088\n"
          ],
          "name": "stdout"
        }
      ]
    },
    {
      "cell_type": "code",
      "metadata": {
        "colab": {
          "base_uri": "https://localhost:8080/"
        },
        "id": "BbE3L5GA8Jo9",
        "outputId": "46100c50-4a11-4909-cba5-d16f63b47e6b"
      },
      "source": [
        "# Logistic on Count Vectors\r\n",
        "accuracy = train_model(LogisticRegression(), X_train_countvect, y_train, X_test_countvect)\r\n",
        "print(\"Count Vectors: \", accuracy)\r\n",
        "\r\n",
        "# Logistic on Word Level TF IDF Vectors\r\n",
        "accuracy = train_model(LogisticRegression(), xtrain_tfidf, y_train, xtest_tfidf)\r\n",
        "print(\"WordLevel TF-IDF: \", accuracy)\r\n",
        "\r\n",
        "# Logistic on Ngram Level TF IDF Vectors\r\n",
        "accuracy = train_model(LogisticRegression(), xtrain_tfidf_ngram, y_train, xtest_tfidf_ngram)\r\n",
        "print(\"N-Gram Vectors: \", accuracy)\r\n",
        "\r\n",
        "# Logistic on Character Level TF IDF Vectors\r\n",
        "accuracy = train_model(LogisticRegression(), xtrain_tfidf_ngram_char, y_train, xtest_tfidf_ngram_char)\r\n",
        "print(\"CharLevel Vectors: \", accuracy)"
      ],
      "execution_count": 31,
      "outputs": [
        {
          "output_type": "stream",
          "text": [
            "/usr/local/lib/python3.7/dist-packages/sklearn/linear_model/_logistic.py:940: ConvergenceWarning: lbfgs failed to converge (status=1):\n",
            "STOP: TOTAL NO. of ITERATIONS REACHED LIMIT.\n",
            "\n",
            "Increase the number of iterations (max_iter) or scale the data as shown in:\n",
            "    https://scikit-learn.org/stable/modules/preprocessing.html\n",
            "Please also refer to the documentation for alternative solver options:\n",
            "    https://scikit-learn.org/stable/modules/linear_model.html#logistic-regression\n",
            "  extra_warning_msg=_LOGISTIC_SOLVER_CONVERGENCE_MSG)\n"
          ],
          "name": "stderr"
        },
        {
          "output_type": "stream",
          "text": [
            "Count Vectors:  0.856353591160221\n",
            "WordLevel TF-IDF:  0.8694123556002009\n",
            "N-Gram Vectors:  0.7855349070818685\n",
            "CharLevel Vectors:  0.861878453038674\n"
          ],
          "name": "stdout"
        }
      ]
    },
    {
      "cell_type": "code",
      "metadata": {
        "colab": {
          "base_uri": "https://localhost:8080/"
        },
        "id": "s5daw3MJ8NFy",
        "outputId": "b290bcf3-9742-404b-e498-01cb05566731"
      },
      "source": [
        "# SVM on Ngram Level TF IDF Vectors\r\n",
        "accuracy = train_model(SVC(), xtrain_tfidf_ngram, y_train, xtest_tfidf_ngram)\r\n",
        "print(\"NB, N-Gram Vectors: \", accuracy)"
      ],
      "execution_count": 32,
      "outputs": [
        {
          "output_type": "stream",
          "text": [
            "NB, N-Gram Vectors:  0.7880462079357107\n"
          ],
          "name": "stdout"
        }
      ]
    },
    {
      "cell_type": "code",
      "metadata": {
        "colab": {
          "base_uri": "https://localhost:8080/"
        },
        "id": "pbVX3XNQ8Q41",
        "outputId": "6c2063ca-bbe8-44b2-c274-3bea3f0f401e"
      },
      "source": [
        "accuracy = train_model(RandomForestClassifier(n_estimators=250, random_state=100), X_train_countvect, y_train, X_test_countvect)\r\n",
        "print(\"Count Vectors: \", accuracy)\r\n",
        "\r\n",
        "# Random Forest on Word Level TF IDF Vectors\r\n",
        "accuracy = train_model(RandomForestClassifier(), xtrain_tfidf, y_train, xtest_tfidf)\r\n",
        "print(\"WordLevel TF-IDF: \", accuracy)\r\n"
      ],
      "execution_count": 33,
      "outputs": [
        {
          "output_type": "stream",
          "text": [
            "Count Vectors:  0.8643897538925164\n",
            "WordLevel TF-IDF:  0.8674033149171271\n"
          ],
          "name": "stdout"
        }
      ]
    },
    {
      "cell_type": "code",
      "metadata": {
        "colab": {
          "base_uri": "https://localhost:8080/"
        },
        "id": "4qnYuJru8UMR",
        "outputId": "b9f5d1ba-4ad7-41cb-c265-0cdcd004fe74"
      },
      "source": [
        "accuracy = train_model(BaggingClassifier(), X_train_countvect, y_train, X_test_countvect)\r\n",
        "print(\"Count Vectors: \", accuracy)\r\n",
        "\r\n",
        "# Bagging on Word Level TF IDF Vectors\r\n",
        "accuracy = train_model(BaggingClassifier(), xtrain_tfidf, y_train, xtest_tfidf)\r\n",
        "print(\"WordLevel TF-IDF: \", accuracy)"
      ],
      "execution_count": 34,
      "outputs": [
        {
          "output_type": "stream",
          "text": [
            "Count Vectors:  0.8061275740833752\n",
            "WordLevel TF-IDF:  0.8262179809141135\n"
          ],
          "name": "stdout"
        }
      ]
    },
    {
      "cell_type": "code",
      "metadata": {
        "colab": {
          "base_uri": "https://localhost:8080/"
        },
        "id": "ae_Vz8na8X6y",
        "outputId": "df07d2ed-938f-4102-9038-ef1951dbce15"
      },
      "source": [
        "import xgboost as xgb\r\n",
        "accuracy = train_model(xgb.XGBClassifier(), X_train_countvect, y_train, X_test_countvect)\r\n",
        "print(\"Count Vectors: \", accuracy)\r\n",
        "\r\n",
        "# Boosting on Word Level TF IDF Vectors\r\n",
        "accuracy = train_model(xgb.XGBClassifier(), xtrain_tfidf, y_train, xtest_tfidf)\r\n",
        "print(\"WordLevel TF-IDF: \", accuracy)"
      ],
      "execution_count": 35,
      "outputs": [
        {
          "output_type": "stream",
          "text": [
            "Count Vectors:  0.8221998995479658\n",
            "WordLevel TF-IDF:  0.8483174284279257\n"
          ],
          "name": "stdout"
        }
      ]
    },
    {
      "cell_type": "markdown",
      "metadata": {
        "id": "I-pi7gw98fSp"
      },
      "source": [
        "Further imporovemnts can be done using hyperparameter tuning\r\n",
        "\r\n",
        "Classification using LSTM and tensorflow"
      ]
    },
    {
      "cell_type": "code",
      "metadata": {
        "id": "HPuLMjcI8cN8"
      },
      "source": [
        "import tensorflow as tf\r\n",
        "from tensorflow import keras\r\n",
        "from keras.preprocessing.text import Tokenizer\r\n",
        "from keras.models import Sequential\r\n",
        "from keras.layers import Dense\r\n",
        "from keras.layers import Embedding\r\n",
        "from keras.layers import SpatialDropout1D\r\n",
        "from keras.layers import LSTM\r\n",
        "from keras.callbacks import EarlyStopping\r\n",
        "from keras.layers import Bidirectional\r\n",
        "from keras.layers import Dropout"
      ],
      "execution_count": 36,
      "outputs": []
    },
    {
      "cell_type": "code",
      "metadata": {
        "colab": {
          "base_uri": "https://localhost:8080/"
        },
        "id": "HMBla2eK8kbx",
        "outputId": "bbc53683-53e2-4b5e-fe45-42fce93d45da"
      },
      "source": [
        "#max words to be used\r\n",
        "MAX_WORDS = 10000\r\n",
        "#max length of the sequence\r\n",
        "MAX_LEN = 50\r\n",
        "#embedding dimension should be between 50 to 300\r\n",
        "EMBEDDING_DIM = 100\r\n",
        "tokenizer = Tokenizer(num_words=MAX_WORDS, filters='!\"#$%&()*+,-./:;<=>?@[\\]^_`{|}~', lower=True)\r\n",
        "tokenizer.fit_on_texts(X)\r\n",
        "word_index = tokenizer.word_index\r\n",
        "print('number of unique tokens are: ', len(word_index))"
      ],
      "execution_count": 37,
      "outputs": [
        {
          "output_type": "stream",
          "text": [
            "number of unique tokens are:  13265\n"
          ],
          "name": "stdout"
        }
      ]
    },
    {
      "cell_type": "code",
      "metadata": {
        "id": "RKwXy3VD8nr4"
      },
      "source": [
        "from keras.preprocessing.sequence import pad_sequences"
      ],
      "execution_count": 38,
      "outputs": []
    },
    {
      "cell_type": "code",
      "metadata": {
        "colab": {
          "base_uri": "https://localhost:8080/"
        },
        "id": "UcYlvJm98qay",
        "outputId": "2960a1f9-0ef8-47b7-bc24-11731745c3b8"
      },
      "source": [
        "X = tokenizer.texts_to_sequences(X)\r\n",
        "X = pad_sequences(X, maxlen=MAX_LEN)\r\n",
        "print('shape of data tensor is', X.shape)"
      ],
      "execution_count": 39,
      "outputs": [
        {
          "output_type": "stream",
          "text": [
            "shape of data tensor is (9955, 50)\n"
          ],
          "name": "stdout"
        }
      ]
    },
    {
      "cell_type": "code",
      "metadata": {
        "colab": {
          "base_uri": "https://localhost:8080/"
        },
        "id": "r6Uz7PXf8sIr",
        "outputId": "6e1c5f1c-eb17-4807-8ac2-df3a7987cd00"
      },
      "source": [
        "X_train, X_test, Y_train, Y_test = train_test_split(X,y, test_size = 0.2, random_state = 100)\r\n",
        "print(X_train.shape,Y_train.shape)\r\n",
        "print(X_test.shape,Y_test.shape)"
      ],
      "execution_count": 40,
      "outputs": [
        {
          "output_type": "stream",
          "text": [
            "(7964, 50) (7964,)\n",
            "(1991, 50) (1991,)\n"
          ],
          "name": "stdout"
        }
      ]
    },
    {
      "cell_type": "code",
      "metadata": {
        "colab": {
          "base_uri": "https://localhost:8080/"
        },
        "id": "2TdH1x-m8umf",
        "outputId": "11f31955-9a5e-4423-9209-2f8201c68a15"
      },
      "source": [
        "model = Sequential()\r\n",
        "model.add(Embedding(input_dim=MAX_WORDS, output_dim= EMBEDDING_DIM, input_length=MAX_LEN))\r\n",
        "model.add(LSTM(300, recurrent_dropout=0.1))\r\n",
        "model.add(Dropout(0.2))\r\n",
        "model.add(Dense(1, activation='sigmoid'))\r\n",
        "model.compile(loss='binary_crossentropy', optimizer='adam', metrics=['accuracy'])\r\n",
        "print(model.summary())\r\n",
        "history =model.fit(X_train, Y_train, validation_data=(X_test, Y_test), epochs=10, batch_size=64)"
      ],
      "execution_count": null,
      "outputs": [
        {
          "output_type": "stream",
          "text": [
            "Model: \"sequential\"\n",
            "_________________________________________________________________\n",
            "Layer (type)                 Output Shape              Param #   \n",
            "=================================================================\n",
            "embedding (Embedding)        (None, 50, 100)           1000000   \n",
            "_________________________________________________________________\n",
            "lstm (LSTM)                  (None, 300)               481200    \n",
            "_________________________________________________________________\n",
            "dropout (Dropout)            (None, 300)               0         \n",
            "_________________________________________________________________\n",
            "dense (Dense)                (None, 1)                 301       \n",
            "=================================================================\n",
            "Total params: 1,481,501\n",
            "Trainable params: 1,481,501\n",
            "Non-trainable params: 0\n",
            "_________________________________________________________________\n",
            "None\n",
            "Epoch 1/10\n",
            "125/125 [==============================] - 82s 633ms/step - loss: 0.5837 - accuracy: 0.6778 - val_loss: 0.3399 - val_accuracy: 0.8574\n",
            "Epoch 2/10\n",
            "125/125 [==============================] - 82s 657ms/step - loss: 0.2635 - accuracy: 0.8976 - val_loss: 0.3661 - val_accuracy: 0.8533\n",
            "Epoch 3/10\n",
            " 67/125 [===============>..............] - ETA: 35s - loss: 0.1829 - accuracy: 0.9335"
          ],
          "name": "stdout"
        }
      ]
    },
    {
      "cell_type": "code",
      "metadata": {
        "id": "MZRbMu-M8xyv"
      },
      "source": [
        "acc = history.history['accuracy']\r\n",
        "val_acc = history.history['val_accuracy']\r\n",
        "loss = history.history['loss']\r\n",
        "val_loss = history.history['val_loss']\r\n",
        "epochs = range(1, len(acc) + 1)\r\n",
        "\r\n",
        "plt.title('Training and validation accuracy')\r\n",
        "plt.plot(epochs, acc, 'red', label='Training acc')\r\n",
        "plt.plot(epochs, val_acc, 'blue', label='Validation acc')\r\n",
        "plt.legend()\r\n",
        "\r\n",
        "plt.figure()\r\n",
        "plt.title('Training and validation loss')\r\n",
        "plt.plot(epochs, loss, 'red', label='Training loss')\r\n",
        "plt.plot(epochs, val_loss, 'blue', label='Validation loss')\r\n",
        "\r\n",
        "plt.legend()\r\n",
        "\r\n",
        "plt.show()"
      ],
      "execution_count": null,
      "outputs": []
    },
    {
      "cell_type": "code",
      "metadata": {
        "id": "bPMZC5bF87WU"
      },
      "source": [
        ""
      ],
      "execution_count": null,
      "outputs": []
    }
  ]
}